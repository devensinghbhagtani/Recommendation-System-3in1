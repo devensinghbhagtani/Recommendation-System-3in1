{
 "cells": [
  {
   "cell_type": "code",
   "execution_count": null,
   "id": "b5f62765",
   "metadata": {},
   "outputs": [],
   "source": [
    "import pandas as pd"
   ]
  },
  {
   "cell_type": "code",
   "execution_count": null,
   "id": "8c2fb19a",
   "metadata": {},
   "outputs": [],
   "source": [
    "music = pd.read_csv(\"final_download.csv\")"
   ]
  },
  {
   "cell_type": "code",
   "execution_count": null,
   "id": "167f3aa4",
   "metadata": {},
   "outputs": [],
   "source": [
    "music['full_name'] = music['music_name'] + ' ' + music['singer']"
   ]
  },
  {
   "cell_type": "code",
   "execution_count": null,
   "id": "a139ea0e",
   "metadata": {
    "scrolled": true
   },
   "outputs": [],
   "source": [
    "music"
   ]
  },
  {
   "cell_type": "code",
   "execution_count": null,
   "id": "cf6a00f9",
   "metadata": {
    "scrolled": true
   },
   "outputs": [],
   "source": [
    "music['singer'] = music['singer'].apply(lambda x: [singer.strip() for singer in x.split(',')])"
   ]
  },
  {
   "cell_type": "code",
   "execution_count": null,
   "id": "0d21ca0a",
   "metadata": {},
   "outputs": [],
   "source": [
    "music['lyrics'] = music['lyrics'].apply(lambda x:x.split())\n",
    "music['release'] = music['release'].astype(str)"
   ]
  },
  {
   "cell_type": "code",
   "execution_count": null,
   "id": "68c19cda",
   "metadata": {},
   "outputs": [],
   "source": [
    "music['release'] =music['release'].apply(lambda x: [x])\n",
    "music['singer'] = music['singer'].apply(lambda x: [i.replace(\" \",\"\") for i in x])\n",
    "music['lyrics'] = music['lyrics'].apply(lambda x: [i.replace(\" \",\"\") for i in x])"
   ]
  },
  {
   "cell_type": "code",
   "execution_count": null,
   "id": "c57f784a",
   "metadata": {},
   "outputs": [],
   "source": [
    "music"
   ]
  },
  {
   "cell_type": "code",
   "execution_count": null,
   "id": "22426feb",
   "metadata": {},
   "outputs": [],
   "source": [
    "music['tags'] = music['singer'] + music['release'] + music['lyrics']"
   ]
  },
  {
   "cell_type": "code",
   "execution_count": null,
   "id": "7cedc5d3",
   "metadata": {},
   "outputs": [],
   "source": [
    "df = music[['music_name', 'full_name', 'thumbnail', 'tags']]"
   ]
  },
  {
   "cell_type": "code",
   "execution_count": null,
   "id": "eaf5e73f",
   "metadata": {},
   "outputs": [],
   "source": [
    "df = df.reset_index(drop=True)"
   ]
  },
  {
   "cell_type": "code",
   "execution_count": null,
   "id": "31cc7eb9",
   "metadata": {},
   "outputs": [],
   "source": [
    "df['tags'] = df['tags'].apply(lambda x:\" \".join(x)) "
   ]
  },
  {
   "cell_type": "code",
   "execution_count": null,
   "id": "d4919f8e",
   "metadata": {},
   "outputs": [],
   "source": [
    "df['tags'] = df['tags'].apply(lambda x:x.lower()) "
   ]
  },
  {
   "cell_type": "code",
   "execution_count": null,
   "id": "376f1d8d",
   "metadata": {},
   "outputs": [],
   "source": [
    "df"
   ]
  },
  {
   "cell_type": "code",
   "execution_count": null,
   "id": "300769be",
   "metadata": {},
   "outputs": [],
   "source": [
    "import nltk\n",
    "from nltk.stem.porter import PorterStemmer\n",
    "from nltk.corpus import stopwords\n",
    "ps = PorterStemmer()"
   ]
  },
  {
   "cell_type": "code",
   "execution_count": null,
   "id": "c78e27bd",
   "metadata": {},
   "outputs": [],
   "source": [
    "def stem(text):\n",
    "    y= []\n",
    "    \n",
    "    for i in text.split():\n",
    "        y.append(ps.stem(i))\n",
    "        \n",
    "    return \" \".join(y)"
   ]
  },
  {
   "cell_type": "code",
   "execution_count": null,
   "id": "90345dd3",
   "metadata": {},
   "outputs": [],
   "source": [
    "df['tags'] = df['tags'].apply(stem)"
   ]
  },
  {
   "cell_type": "code",
   "execution_count": null,
   "id": "a052a765",
   "metadata": {},
   "outputs": [],
   "source": [
    "df['tags'][2]"
   ]
  },
  {
   "cell_type": "code",
   "execution_count": null,
   "id": "6e511166",
   "metadata": {},
   "outputs": [],
   "source": [
    "hinglish = stopwords.words('hinglish')"
   ]
  },
  {
   "cell_type": "code",
   "execution_count": null,
   "id": "7cbe8347",
   "metadata": {},
   "outputs": [],
   "source": [
    "from sklearn.feature_extraction.text import CountVectorizer\n",
    "cv = CountVectorizer(max_features=2500, stop_words= hinglish)"
   ]
  },
  {
   "cell_type": "code",
   "execution_count": null,
   "id": "8afcab50",
   "metadata": {},
   "outputs": [],
   "source": [
    "vectors = cv.fit_transform(df['tags']).toarray()"
   ]
  },
  {
   "cell_type": "code",
   "execution_count": null,
   "id": "66f174ab",
   "metadata": {},
   "outputs": [],
   "source": [
    "len(cv.get_feature_names_out())"
   ]
  },
  {
   "cell_type": "code",
   "execution_count": null,
   "id": "d33df195",
   "metadata": {},
   "outputs": [],
   "source": [
    "from sklearn.metrics.pairwise import cosine_similarity"
   ]
  },
  {
   "cell_type": "code",
   "execution_count": null,
   "id": "c48eccfc",
   "metadata": {},
   "outputs": [],
   "source": [
    "similarity = cosine_similarity(vectors)"
   ]
  },
  {
   "cell_type": "code",
   "execution_count": null,
   "id": "67186861",
   "metadata": {},
   "outputs": [],
   "source": [
    "sorted(list(enumerate(similarity[1])), reverse=True, key=lambda x:x[1])[1:6]"
   ]
  },
  {
   "cell_type": "code",
   "execution_count": null,
   "id": "8eb3d966",
   "metadata": {},
   "outputs": [],
   "source": [
    "def recommend(musicz):\n",
    "    music_index = df[df['music_name'] == musicz].index[0]\n",
    "    distances = similarity[music_index]\n",
    "    music_list = sorted(list(enumerate(distances)), reverse=True, key=lambda x:x[1])[1:6]\n",
    "    \n",
    "    for i in music_list:\n",
    "        print(df.iloc[i[0]].music_name)"
   ]
  },
  {
   "cell_type": "code",
   "execution_count": null,
   "id": "343da9dc",
   "metadata": {
    "scrolled": true
   },
   "outputs": [],
   "source": [
    "recommend('Ae Ri Mai Re')"
   ]
  },
  {
   "cell_type": "code",
   "execution_count": null,
   "id": "2afa22fd",
   "metadata": {},
   "outputs": [],
   "source": [
    "import pickle \n",
    "pickle.dump(df.to_dict(), open('Music-Dict.pkl','wb'))\n",
    "pickle.dump(similarity, open('MusicSimilarityMatrix.pkl','wb'))"
   ]
  },
  {
   "cell_type": "code",
   "execution_count": null,
   "id": "f54a9497",
   "metadata": {},
   "outputs": [],
   "source": []
  }
 ],
 "metadata": {
  "kernelspec": {
   "display_name": "Python 3 (ipykernel)",
   "language": "python",
   "name": "python3"
  },
  "language_info": {
   "codemirror_mode": {
    "name": "ipython",
    "version": 3
   },
   "file_extension": ".py",
   "mimetype": "text/x-python",
   "name": "python",
   "nbconvert_exporter": "python",
   "pygments_lexer": "ipython3",
   "version": "3.11.3"
  }
 },
 "nbformat": 4,
 "nbformat_minor": 5
}
