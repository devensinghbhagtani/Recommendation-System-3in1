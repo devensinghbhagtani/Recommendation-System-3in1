{
 "cells": [
  {
   "cell_type": "code",
   "execution_count": null,
   "id": "289c89f7",
   "metadata": {},
   "outputs": [],
   "source": [
    "import numpy as np\n",
    "import pandas as pd"
   ]
  },
  {
   "cell_type": "code",
   "execution_count": null,
   "id": "363925d6",
   "metadata": {},
   "outputs": [],
   "source": [
    "movies = pd.read_csv('Movie Dataset 2023.csv')"
   ]
  },
  {
   "cell_type": "code",
   "execution_count": null,
   "id": "320715be",
   "metadata": {
    "scrolled": false
   },
   "outputs": [],
   "source": [
    "movies.isnull().sum()"
   ]
  },
  {
   "cell_type": "code",
   "execution_count": null,
   "id": "6531c7db",
   "metadata": {},
   "outputs": [],
   "source": [
    "movies = movies.dropna()"
   ]
  },
  {
   "cell_type": "code",
   "execution_count": null,
   "id": "eeccf2e1",
   "metadata": {},
   "outputs": [],
   "source": [
    "movies.isnull().sum()"
   ]
  },
  {
   "cell_type": "code",
   "execution_count": null,
   "id": "a1ef00ec",
   "metadata": {},
   "outputs": [],
   "source": [
    "movies = movies[['movie_id', 'movie_name', 'year', 'overview', 'genre', 'director', 'cast']]"
   ]
  },
  {
   "cell_type": "code",
   "execution_count": null,
   "id": "2628e1e7",
   "metadata": {},
   "outputs": [],
   "source": [
    "movies = movies.rename(columns = {'movie_name':'title'})"
   ]
  },
  {
   "cell_type": "code",
   "execution_count": null,
   "id": "0b19b4b9",
   "metadata": {},
   "outputs": [],
   "source": [
    "movie = movies.copy()"
   ]
  },
  {
   "cell_type": "code",
   "execution_count": null,
   "id": "a30a7905",
   "metadata": {},
   "outputs": [],
   "source": [
    "movie = movie[~(movie == \" \").any(axis=1)]"
   ]
  },
  {
   "cell_type": "code",
   "execution_count": null,
   "id": "1376e5f2",
   "metadata": {},
   "outputs": [],
   "source": [
    "movie"
   ]
  },
  {
   "cell_type": "code",
   "execution_count": null,
   "id": "f58f92f0",
   "metadata": {},
   "outputs": [],
   "source": [
    "movie['genre'] = movie['genre'].apply(lambda x: [genre.strip() for genre in x.split(',')])"
   ]
  },
  {
   "cell_type": "code",
   "execution_count": null,
   "id": "fe79998a",
   "metadata": {},
   "outputs": [],
   "source": [
    "movie['director'] = movie['director'].apply(lambda x: [director.strip() for director in x.split(',')])"
   ]
  },
  {
   "cell_type": "code",
   "execution_count": null,
   "id": "6b3c3afe",
   "metadata": {},
   "outputs": [],
   "source": [
    "movie['cast'] = movie['cast'].apply(lambda x: [cast.strip() for cast in x.split(',')])"
   ]
  },
  {
   "cell_type": "code",
   "execution_count": null,
   "id": "34145d0c",
   "metadata": {},
   "outputs": [],
   "source": [
    "movie['overview'] = movie['overview'].apply(lambda x:x.split())"
   ]
  },
  {
   "cell_type": "code",
   "execution_count": null,
   "id": "722fdb9c",
   "metadata": {},
   "outputs": [],
   "source": [
    "movie['genre'] = movie['genre'].apply(lambda x: [i.replace(\" \",\"\") for i in x])\n",
    "movie['director'] = movie['director'].apply(lambda x: [i.replace(\" \",\"\") for i in x])\n",
    "movie['cast'] = movie['cast'].apply(lambda x: [i.replace(\" \",\"\") for i in x])"
   ]
  },
  {
   "cell_type": "code",
   "execution_count": null,
   "id": "9e8bd4e3",
   "metadata": {},
   "outputs": [],
   "source": [
    "movie.head()"
   ]
  },
  {
   "cell_type": "code",
   "execution_count": null,
   "id": "8fbbcac8",
   "metadata": {},
   "outputs": [],
   "source": [
    "movie['tags'] = movie['overview'] + movie['genre'] + movie['director'] + movie['cast']"
   ]
  },
  {
   "cell_type": "code",
   "execution_count": null,
   "id": "387048e3",
   "metadata": {},
   "outputs": [],
   "source": [
    "movie.head()"
   ]
  },
  {
   "cell_type": "code",
   "execution_count": null,
   "id": "1ed961cb",
   "metadata": {},
   "outputs": [],
   "source": [
    "df = movie[['movie_id', 'title', 'year', 'tags']]"
   ]
  },
  {
   "cell_type": "code",
   "execution_count": null,
   "id": "73ec0f20",
   "metadata": {},
   "outputs": [],
   "source": [
    "df = df.reset_index(drop=True)"
   ]
  },
  {
   "cell_type": "code",
   "execution_count": null,
   "id": "ff12cb8b",
   "metadata": {},
   "outputs": [],
   "source": [
    "df"
   ]
  },
  {
   "cell_type": "code",
   "execution_count": null,
   "id": "f638619e",
   "metadata": {},
   "outputs": [],
   "source": [
    "df['tags'] = df['tags'].apply(lambda x:\" \".join(x)) "
   ]
  },
  {
   "cell_type": "code",
   "execution_count": null,
   "id": "052467b4",
   "metadata": {},
   "outputs": [],
   "source": [
    "df['tags'] = df['tags'].apply(lambda x:x.lower()) "
   ]
  },
  {
   "cell_type": "code",
   "execution_count": null,
   "id": "924d61c0",
   "metadata": {},
   "outputs": [],
   "source": [
    "df['tags'][0]"
   ]
  },
  {
   "cell_type": "code",
   "execution_count": null,
   "id": "85638eff",
   "metadata": {
    "scrolled": false
   },
   "outputs": [],
   "source": [
    "import nltk\n",
    "from nltk.stem.porter import PorterStemmer\n",
    "ps = PorterStemmer()"
   ]
  },
  {
   "cell_type": "code",
   "execution_count": null,
   "id": "fd227cfe",
   "metadata": {},
   "outputs": [],
   "source": [
    "def stem(text):\n",
    "    y= []\n",
    "    \n",
    "    for i in text.split():\n",
    "        y.append(ps.stem(i))\n",
    "        \n",
    "    return \" \".join(y)"
   ]
  },
  {
   "cell_type": "code",
   "execution_count": null,
   "id": "bd39aa14",
   "metadata": {},
   "outputs": [],
   "source": [
    "df['tags'] = df['tags'].apply(stem)"
   ]
  },
  {
   "cell_type": "code",
   "execution_count": null,
   "id": "c36d5041",
   "metadata": {
    "scrolled": true
   },
   "outputs": [],
   "source": [
    "ps.stem('successfully')"
   ]
  },
  {
   "cell_type": "code",
   "execution_count": null,
   "id": "73d9a5bc",
   "metadata": {},
   "outputs": [],
   "source": [
    "df['tags'][1]"
   ]
  },
  {
   "cell_type": "code",
   "execution_count": null,
   "id": "4cbdceb2",
   "metadata": {},
   "outputs": [],
   "source": [
    "from sklearn.feature_extraction.text import CountVectorizer\n",
    "cv = CountVectorizer(max_features=4000, stop_words= 'english')"
   ]
  },
  {
   "cell_type": "code",
   "execution_count": null,
   "id": "d6371def",
   "metadata": {},
   "outputs": [],
   "source": [
    "vectors = cv.fit_transform(df['tags']).toarray()"
   ]
  },
  {
   "cell_type": "code",
   "execution_count": null,
   "id": "553e61d5",
   "metadata": {},
   "outputs": [],
   "source": [
    "vectors[0]"
   ]
  },
  {
   "cell_type": "code",
   "execution_count": null,
   "id": "4d4eae06",
   "metadata": {},
   "outputs": [],
   "source": [
    "len(cv.get_feature_names_out())"
   ]
  },
  {
   "cell_type": "code",
   "execution_count": null,
   "id": "354a0c90",
   "metadata": {},
   "outputs": [],
   "source": [
    "from sklearn.metrics.pairwise import cosine_similarity"
   ]
  },
  {
   "cell_type": "code",
   "execution_count": null,
   "id": "8d3ff86d",
   "metadata": {
    "scrolled": true
   },
   "outputs": [],
   "source": [
    "similarity = cosine_similarity(vectors)"
   ]
  },
  {
   "cell_type": "code",
   "execution_count": null,
   "id": "5e7aa3f1",
   "metadata": {
    "scrolled": true
   },
   "outputs": [],
   "source": [
    "sorted(list(enumerate(similarity[1])), reverse=True, key=lambda x:x[1])[1:6]"
   ]
  },
  {
   "cell_type": "code",
   "execution_count": null,
   "id": "731a42de",
   "metadata": {},
   "outputs": [],
   "source": [
    "import requests"
   ]
  },
  {
   "cell_type": "code",
   "execution_count": null,
   "id": "96742a39",
   "metadata": {
    "scrolled": true
   },
   "outputs": [],
   "source": [
    "def recommend(moviez):\n",
    "    movie_index = df[df['title'] == moviez].index[0]\n",
    "    distances = similarity[movie_index]\n",
    "    movies_list = sorted(list(enumerate(distances)), reverse=True, key=lambda x:x[1])[1:9]\n",
    "    \n",
    "    for i in movies_list:\n",
    "        print(df.iloc[i[0]])\n",
    "recommend('Ghoomer')"
   ]
  },
  {
   "cell_type": "code",
   "execution_count": null,
   "id": "f25ff249",
   "metadata": {
    "scrolled": false
   },
   "outputs": [],
   "source": [
    "def recommend(moviez):\n",
    "    movie_index = df[df['title'] == moviez].index[0]\n",
    "    distances = similarity[movie_index]\n",
    "    movies_list = sorted(list(enumerate(distances)), reverse=True, key=lambda x:x[1])[1:9]\n",
    "    \n",
    "    recommended_movies = []\n",
    "    recommended_movies_posters = []\n",
    "    for i in movies_list:\n",
    "        movie_id = df.iloc[i[0]].title\n",
    "        recommended_movies.append(df.iloc[i[0]].title)\n",
    "        recommended_movies_posters.append(fetch_poster(movie_id, df.iloc[i[0]].year))\n",
    "        \n",
    "def fetch_poster(movie_id, year):\n",
    "    response = requests.get('https://www.omdbapi.com/?t={}&y={}&apikey=3ac1a5bd'.format(movie_id, year))\n",
    "    data = response.json()\n",
    "    print(data)\n",
    "    \n",
    "recommend('Jaane Jaan')"
   ]
  },
  {
   "cell_type": "code",
   "execution_count": null,
   "id": "8132abf7",
   "metadata": {},
   "outputs": [],
   "source": [
    "import pickle "
   ]
  },
  {
   "cell_type": "code",
   "execution_count": null,
   "id": "3419eaaa",
   "metadata": {},
   "outputs": [],
   "source": [
    "pickle.dump(df.to_dict(), open('movie_dict.pkl','wb'))"
   ]
  },
  {
   "cell_type": "code",
   "execution_count": null,
   "id": "1db4cc76",
   "metadata": {},
   "outputs": [],
   "source": [
    "pickle.dump(similarity, open('similarity.pkl','wb'))"
   ]
  }
 ],
 "metadata": {
  "kernelspec": {
   "display_name": "Python 3 (ipykernel)",
   "language": "python",
   "name": "python3"
  },
  "language_info": {
   "codemirror_mode": {
    "name": "ipython",
    "version": 3
   },
   "file_extension": ".py",
   "mimetype": "text/x-python",
   "name": "python",
   "nbconvert_exporter": "python",
   "pygments_lexer": "ipython3",
   "version": "3.11.3"
  }
 },
 "nbformat": 4,
 "nbformat_minor": 5
}
